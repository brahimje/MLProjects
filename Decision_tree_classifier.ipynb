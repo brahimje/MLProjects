{
  "nbformat": 4,
  "nbformat_minor": 0,
  "metadata": {
    "colab": {
      "provenance": [],
      "collapsed_sections": [],
      "authorship_tag": "ABX9TyOtyinPpRUMb20+SYIW2eL1",
      "include_colab_link": true
    },
    "kernelspec": {
      "name": "python3",
      "display_name": "Python 3"
    },
    "language_info": {
      "name": "python"
    }
  },
  "cells": [
    {
      "cell_type": "markdown",
      "metadata": {
        "id": "view-in-github",
        "colab_type": "text"
      },
      "source": [
        "<a href=\"https://colab.research.google.com/github/brahimje/MLProjects/blob/main/Decision_tree_classifier.ipynb\" target=\"_parent\"><img src=\"https://colab.research.google.com/assets/colab-badge.svg\" alt=\"Open In Colab\"/></a>"
      ]
    },
    {
      "cell_type": "markdown",
      "source": [
        "# Dataset Iris"
      ],
      "metadata": {
        "id": "rulsAMSB_EOv"
      }
    },
    {
      "cell_type": "code",
      "source": [
        "from sklearn import datasets\n",
        "from sklearn.tree import DecisionTreeClassifier\n",
        "from sklearn.tree import export_text\n",
        "from sklearn.model_selection import train_test_split\n",
        "import random"
      ],
      "metadata": {
        "id": "evjpKLJRBUH5"
      },
      "execution_count": 2,
      "outputs": []
    },
    {
      "cell_type": "code",
      "execution_count": 3,
      "metadata": {
        "id": "GVkBn_ss-9Cn"
      },
      "outputs": [],
      "source": [
        "# Load iris dataset\n",
        "irisData = datasets.load_iris()\n",
        "#print('Data: \\n', irisData.data)\n",
        "#print('Target: \\n', irisData.target)"
      ]
    },
    {
      "cell_type": "code",
      "source": [
        "data = irisData.data\n",
        "target = irisData.target\n",
        "\n",
        "# Take out a test set\n",
        "x_train, x_test, y_train, y_test = train_test_split(data, target, test_size = 0.3,  random_state = random.seed())"
      ],
      "metadata": {
        "id": "jUkJEfahF6qU"
      },
      "execution_count": 4,
      "outputs": []
    },
    {
      "cell_type": "code",
      "source": [
        "decision_tree = DecisionTreeClassifier(random_state=0, max_depth=2)\n",
        "decision_tree = decision_tree.fit(data, target)\n",
        "r = export_text(decision_tree, feature_names=irisData['feature_names'])\n",
        "print(r)"
      ],
      "metadata": {
        "colab": {
          "base_uri": "https://localhost:8080/"
        },
        "id": "PhIDQLZmCVuu",
        "outputId": "2e1f7862-a906-483e-82ec-c10e5fba2175"
      },
      "execution_count": 5,
      "outputs": [
        {
          "output_type": "stream",
          "name": "stdout",
          "text": [
            "|--- petal width (cm) <= 0.80\n",
            "|   |--- class: 0\n",
            "|--- petal width (cm) >  0.80\n",
            "|   |--- petal width (cm) <= 1.75\n",
            "|   |   |--- class: 1\n",
            "|   |--- petal width (cm) >  1.75\n",
            "|   |   |--- class: 2\n",
            "\n"
          ]
        }
      ]
    },
    {
      "cell_type": "code",
      "source": [
        "print('Estimed Score: ', decision_tree.score(x_test, y_test))\n",
        "print(decision_tree.predict(data[50:]).reshape(1, -1))"
      ],
      "metadata": {
        "colab": {
          "base_uri": "https://localhost:8080/"
        },
        "id": "niMZMHFVHPvP",
        "outputId": "c4fe2674-129b-4b16-bf41-095eb189d146"
      },
      "execution_count": 12,
      "outputs": [
        {
          "output_type": "stream",
          "name": "stdout",
          "text": [
            "Estimed Score:  1.0\n",
            "[[1 1 1 1 1 1 1 1 1 1 1 1 1 1 1 1 1 1 1 1 2 1 1 1 1 1 1 1 1 1 1 1 1 1 1 1\n",
            "  1 1 1 1 1 1 1 1 1 1 1 1 1 1 2 2 2 2 2 2 1 2 2 2 2 2 2 2 2 2 2 2 2 1 2 2\n",
            "  2 2 2 2 2 2 2 1 2 2 2 1 1 2 2 2 2 2 2 2 2 2 2 2 2 2 2 2]]\n"
          ]
        }
      ]
    }
  ]
}